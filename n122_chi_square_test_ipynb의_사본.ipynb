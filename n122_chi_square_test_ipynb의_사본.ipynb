{
  "nbformat": 4,
  "nbformat_minor": 0,
  "metadata": {
    "colab": {
      "name": "n122-chi-square-test.ipynb의 사본",
      "provenance": [],
      "include_colab_link": true
    },
    "kernelspec": {
      "display_name": "Python 3",
      "language": "python",
      "name": "python3"
    },
    "language_info": {
      "codemirror_mode": {
        "name": "ipython",
        "version": 3
      },
      "file_extension": ".py",
      "mimetype": "text/x-python",
      "name": "python",
      "nbconvert_exporter": "python",
      "pygments_lexer": "ipython3",
      "version": "3.9.4"
    }
  },
  "cells": [
    {
      "cell_type": "markdown",
      "metadata": {
        "id": "view-in-github",
        "colab_type": "text"
      },
      "source": [
        "<a href=\"https://colab.research.google.com/github/minshyee/AI-python-connect/blob/master/n122_chi_square_test_ipynb%EC%9D%98_%EC%82%AC%EB%B3%B8.ipynb\" target=\"_parent\"><img src=\"https://colab.research.google.com/assets/colab-badge.svg\" alt=\"Open In Colab\"/></a>"
      ]
    },
    {
      "cell_type": "markdown",
      "metadata": {
        "id": "rQf3dSuc5PqO"
      },
      "source": [
        "<img src='https://i.imgur.com/RDAD11M.png' width = '200' align = 'right'>\n",
        "\n",
        "## *DATA SCIENCE / SECTION 1 / SPRINT 2 / NOTE 2*\n",
        "\n",
        "# 📝 Assignment"
      ]
    },
    {
      "cell_type": "markdown",
      "metadata": {
        "id": "nPOFRyhJ1IdJ"
      },
      "source": [
        "# 카이제곱검정"
      ]
    },
    {
      "cell_type": "markdown",
      "metadata": {
        "id": "11OzdxWTM7UR"
      },
      "source": [
        "\n",
        "## 1. 공공데이터 조작 연습. \n",
        "\n",
        "국가 통계 포털에서 아래 이미지를 참조하여\n",
        "\n",
        "<https://kosis.kr/statisticsList/statisticsListIndex.do?menuId=M_01_01&vwcd=MT_ZTITLE&parmTabId=M_01_01#SelectStatsBoxDiv>\n",
        "\n",
        "**2020년 8월**에 해당하는 규모별 미분양현황 에 대한 데이터셋을 생성하세요. \n",
        "\n",
        "<img src='https://i.imgur.com/aZc4UJO.png' width = 500>\n",
        "\n",
        "- `60m이하`, `60~85m`, `85m초과`의 3개 규모와 (column)\n",
        "- `서울`, `대전`, `대구`, `부산` 4개의 지역을 포함해야합니다. (row)\n",
        "- `민간부문`만 포함합니다\n",
        "- 데이터가 없는 경우는 0으로 처리하세요.\n",
        "\n",
        "이후 데이터셋을 colab으로 불러오세요. 이때 변수의 이름은 `df`를 사용합니다.\n"
      ]
    },
    {
      "cell_type": "code",
      "metadata": {
        "id": "kHRaJMDhSMZP"
      },
      "source": [
        "import pandas as pd\n",
        "import numpy as np\n",
        "from scipy import stats"
      ],
      "execution_count": null,
      "outputs": []
    },
    {
      "cell_type": "code",
      "metadata": {
        "id": "IhWdLFndyVAB"
      },
      "source": [
        "col = ['~60m2', '60~85m2', '85m2~']\n",
        "row = ['서울', '대전', '대구', '부산']"
      ],
      "execution_count": null,
      "outputs": []
    },
    {
      "cell_type": "code",
      "metadata": {
        "id": "gAHWx9mdlxWO",
        "colab": {
          "base_uri": "https://localhost:8080/",
          "height": 171
        },
        "outputId": "2bc26c61-df3d-4e14-d934-975ef1e4d097"
      },
      "source": [
        "df=pd.read_csv('/content/규모별_미분양현황_20210917180424.csv',encoding='cp949')\n",
        "df"
      ],
      "execution_count": null,
      "outputs": [
        {
          "output_type": "execute_result",
          "data": {
            "text/html": [
              "<div>\n",
              "<style scoped>\n",
              "    .dataframe tbody tr th:only-of-type {\n",
              "        vertical-align: middle;\n",
              "    }\n",
              "\n",
              "    .dataframe tbody tr th {\n",
              "        vertical-align: top;\n",
              "    }\n",
              "\n",
              "    .dataframe thead th {\n",
              "        text-align: right;\n",
              "    }\n",
              "</style>\n",
              "<table border=\"1\" class=\"dataframe\">\n",
              "  <thead>\n",
              "    <tr style=\"text-align: right;\">\n",
              "      <th></th>\n",
              "      <th>시도(1)</th>\n",
              "      <th>시점</th>\n",
              "      <th>부문(1)</th>\n",
              "      <th>60㎡이하</th>\n",
              "      <th>60∼85㎡</th>\n",
              "      <th>85㎡초과</th>\n",
              "    </tr>\n",
              "  </thead>\n",
              "  <tbody>\n",
              "    <tr>\n",
              "      <th>0</th>\n",
              "      <td>서울</td>\n",
              "      <td>2020. 08</td>\n",
              "      <td>민간부문</td>\n",
              "      <td>54</td>\n",
              "      <td>2</td>\n",
              "      <td>0</td>\n",
              "    </tr>\n",
              "    <tr>\n",
              "      <th>1</th>\n",
              "      <td>부산</td>\n",
              "      <td>2020. 08</td>\n",
              "      <td>민간부문</td>\n",
              "      <td>577</td>\n",
              "      <td>735</td>\n",
              "      <td>142</td>\n",
              "    </tr>\n",
              "    <tr>\n",
              "      <th>2</th>\n",
              "      <td>대구</td>\n",
              "      <td>2020. 08</td>\n",
              "      <td>민간부문</td>\n",
              "      <td>143</td>\n",
              "      <td>1437</td>\n",
              "      <td>44</td>\n",
              "    </tr>\n",
              "    <tr>\n",
              "      <th>3</th>\n",
              "      <td>대전</td>\n",
              "      <td>2020. 08</td>\n",
              "      <td>민간부문</td>\n",
              "      <td>782</td>\n",
              "      <td>1</td>\n",
              "      <td>0</td>\n",
              "    </tr>\n",
              "  </tbody>\n",
              "</table>\n",
              "</div>"
            ],
            "text/plain": [
              "  시도(1)        시점 부문(1)  60㎡이하  60∼85㎡  85㎡초과\n",
              "0    서울  2020. 08  민간부문     54       2      0\n",
              "1    부산  2020. 08  민간부문    577     735    142\n",
              "2    대구  2020. 08  민간부문    143    1437     44\n",
              "3    대전  2020. 08  민간부문    782       1      0"
            ]
          },
          "metadata": {},
          "execution_count": 38
        }
      ]
    },
    {
      "cell_type": "code",
      "metadata": {
        "id": "r_m606Mdnn1F"
      },
      "source": [
        "df = df.drop(['시점','부문(1)'], axis=1)"
      ],
      "execution_count": null,
      "outputs": []
    },
    {
      "cell_type": "code",
      "metadata": {
        "id": "xJH02KLQn0P6",
        "colab": {
          "base_uri": "https://localhost:8080/",
          "height": 202
        },
        "outputId": "8d6a8444-baa1-44c0-e670-12d354a58871"
      },
      "source": [
        "df"
      ],
      "execution_count": null,
      "outputs": [
        {
          "output_type": "execute_result",
          "data": {
            "text/html": [
              "<div>\n",
              "<style scoped>\n",
              "    .dataframe tbody tr th:only-of-type {\n",
              "        vertical-align: middle;\n",
              "    }\n",
              "\n",
              "    .dataframe tbody tr th {\n",
              "        vertical-align: top;\n",
              "    }\n",
              "\n",
              "    .dataframe thead th {\n",
              "        text-align: right;\n",
              "    }\n",
              "</style>\n",
              "<table border=\"1\" class=\"dataframe\">\n",
              "  <thead>\n",
              "    <tr style=\"text-align: right;\">\n",
              "      <th></th>\n",
              "      <th>60㎡이하</th>\n",
              "      <th>60∼85㎡</th>\n",
              "      <th>85㎡초과</th>\n",
              "    </tr>\n",
              "    <tr>\n",
              "      <th>시도(1)</th>\n",
              "      <th></th>\n",
              "      <th></th>\n",
              "      <th></th>\n",
              "    </tr>\n",
              "  </thead>\n",
              "  <tbody>\n",
              "    <tr>\n",
              "      <th>서울</th>\n",
              "      <td>54</td>\n",
              "      <td>2</td>\n",
              "      <td>0</td>\n",
              "    </tr>\n",
              "    <tr>\n",
              "      <th>부산</th>\n",
              "      <td>577</td>\n",
              "      <td>735</td>\n",
              "      <td>142</td>\n",
              "    </tr>\n",
              "    <tr>\n",
              "      <th>대구</th>\n",
              "      <td>143</td>\n",
              "      <td>1437</td>\n",
              "      <td>44</td>\n",
              "    </tr>\n",
              "    <tr>\n",
              "      <th>대전</th>\n",
              "      <td>782</td>\n",
              "      <td>1</td>\n",
              "      <td>0</td>\n",
              "    </tr>\n",
              "  </tbody>\n",
              "</table>\n",
              "</div>"
            ],
            "text/plain": [
              "       60㎡이하  60∼85㎡  85㎡초과\n",
              "시도(1)                      \n",
              "서울        54       2      0\n",
              "부산       577     735    142\n",
              "대구       143    1437     44\n",
              "대전       782       1      0"
            ]
          },
          "metadata": {},
          "execution_count": 44
        }
      ]
    },
    {
      "cell_type": "code",
      "metadata": {
        "id": "u-ZEWu2mnYlh"
      },
      "source": [
        "df= df.set_index('시도(1)')"
      ],
      "execution_count": null,
      "outputs": []
    },
    {
      "cell_type": "code",
      "metadata": {
        "id": "zci2rcvIGada",
        "colab": {
          "base_uri": "https://localhost:8080/"
        },
        "outputId": "7f76f64e-b761-4c5f-daec-b28a2f1eb568"
      },
      "source": [
        "df.dtypes"
      ],
      "execution_count": null,
      "outputs": [
        {
          "output_type": "execute_result",
          "data": {
            "text/plain": [
              "60㎡이하     int64\n",
              "60∼85㎡    int64\n",
              "85㎡초과     int64\n",
              "dtype: object"
            ]
          },
          "metadata": {},
          "execution_count": 45
        }
      ]
    },
    {
      "cell_type": "markdown",
      "metadata": {
        "id": "RXPZZuAi3ccI"
      },
      "source": [
        "## 2. 지역에 대해서 one-sample chi-square test를 실행, 해당 결과를 `chi1`에 저장 후 설명해보세요.\n",
        "\n",
        "예시) 만약 **9월달 데이터**를 기준으로 한다면\n",
        "```python\n",
        " [52+2+0, 590+665+142, 113+1061+42, 772+1+0]\n",
        "```\n",
        "을 비교 하게 될 것입니다.\n",
        "\n",
        "\n"
      ]
    },
    {
      "cell_type": "code",
      "metadata": {
        "id": "oIMzAkXks-Sv",
        "colab": {
          "base_uri": "https://localhost:8080/"
        },
        "outputId": "abab4a14-fe95-4529-f578-e368becb0fba"
      },
      "source": [
        "sum_df = df.sum(axis=1)\n",
        "sum_df"
      ],
      "execution_count": null,
      "outputs": [
        {
          "output_type": "execute_result",
          "data": {
            "text/plain": [
              "시도(1)\n",
              "서울      56\n",
              "부산    1454\n",
              "대구    1624\n",
              "대전     783\n",
              "dtype: int64"
            ]
          },
          "metadata": {},
          "execution_count": 47
        }
      ]
    },
    {
      "cell_type": "code",
      "metadata": {
        "id": "85m-P5BGHZC2",
        "colab": {
          "base_uri": "https://localhost:8080/"
        },
        "outputId": "533ef957-2bb3-4dec-a57e-75752c42a44e"
      },
      "source": [
        "chi1 = stats.chisquare(sum_df, axis = None)\n",
        "chi1"
      ],
      "execution_count": null,
      "outputs": [
        {
          "output_type": "execute_result",
          "data": {
            "text/plain": [
              "Power_divergenceResult(statistic=1564.4572376818994, pvalue=0.0)"
            ]
          },
          "metadata": {},
          "execution_count": 51
        }
      ]
    },
    {
      "cell_type": "markdown",
      "metadata": {
        "id": "8eJ439ZwNflk"
      },
      "source": [
        "## Discription\n",
        "\n",
        "여기서 귀무가설은 \"4개 지역의 미분양 데이터의 분포는 같다\" 이다\n",
        "\n",
        "그러나 카이제곱검정의 결과, p value의 값이 0.05보다 작은 값을 가지므로 귀무가설은 기각됨을 알수 있다.\n",
        "\n",
        "즉, **4개 지역의 미분양 데이터의 분포는 같지 않다라고 판단할 수 있다.**"
      ]
    },
    {
      "cell_type": "markdown",
      "metadata": {
        "id": "eMDtugVNRu0q"
      },
      "source": [
        "## 3. 지역과 규모에 대해서 two-sample chi-square test를 실행, 해당 결과를 `chi2`에 저장 후 설명해보세요.\n",
        "\n",
        "예시) **9월달 데이터**를 기준으로 한다면\n",
        "\n",
        "| |-60 | 60-85 | 85- |\n",
        "|:-:|:-:|:-:|:-:|\n",
        "|서울|52|2|0|\n",
        "|대전|772|1|0|\n",
        "|대구|113|1061|42|\n",
        "|부산|590|665|142|\n",
        "\n",
        "에 대해서 검정해야 할 겁니다.\n",
        "\n",
        "\n"
      ]
    },
    {
      "cell_type": "code",
      "metadata": {
        "id": "aIC2lILPHYoH",
        "colab": {
          "base_uri": "https://localhost:8080/"
        },
        "outputId": "58bb2c77-04f3-44f2-8af7-39c4d1add67a"
      },
      "source": [
        "stats.chi2_contingency(df, correction = False)"
      ],
      "execution_count": null,
      "outputs": [
        {
          "output_type": "execute_result",
          "data": {
            "text/plain": [
              "(2064.576731417199, 0.0, 6, array([[ 22.24559612,  31.09522594,   2.65917794],\n",
              "        [577.59101353, 807.36533061,  69.04365586],\n",
              "        [645.12228746, 901.76155221,  77.11616033],\n",
              "        [311.04110288, 434.77789124,  37.18100587]]))"
            ]
          },
          "metadata": {},
          "execution_count": 54
        }
      ]
    },
    {
      "cell_type": "markdown",
      "metadata": {
        "id": "oZw4nW4wO3Ad"
      },
      "source": [
        "## Discription\n",
        "\n",
        "지역과 규모에 관한 카이제곱검정으로\n",
        "귀무가설은  \"미분양 데이터에 관해 지역과 규모는 서로 관련이 있다.\" 이다.\n",
        "\n",
        "그러나 카이제곱검정 결과, p value 값이 0.05보다 작은 0.0 값을 가지므로 귀무가설 이 기각됨을 알 수 있다.\n",
        "\n",
        "따라서, **지역과 규모는 서로 관련없는 독립적인 feature임을 알 수 있다** "
      ]
    },
    {
      "cell_type": "markdown",
      "metadata": {
        "id": "Tf7XPpBP6YqX"
      },
      "source": [
        "### 4. 2번에 대해서 NumPy 를 사용하여 (Scipy를 사용하지 않고) $\\chi^2$ test 시행 후 2번의 결과와 비교해보세요. \n",
        "\n",
        "- `obs`, `exp`, `chi`라는 변수를 사용해야합니다."
      ]
    },
    {
      "cell_type": "code",
      "metadata": {
        "id": "OjFt0b1-wrFL",
        "colab": {
          "base_uri": "https://localhost:8080/"
        },
        "outputId": "3db65cfd-fdc6-4236-9c1c-9305e7fd596c"
      },
      "source": [
        "obs = sum_df\n",
        "exp = sum_df.mean()\n",
        "sq = (obs - exp)**2\n",
        "com_val = sq / exp\n",
        "chi = com_val.sum()\n",
        "chi"
      ],
      "execution_count": null,
      "outputs": [
        {
          "output_type": "execute_result",
          "data": {
            "text/plain": [
              "1564.4572376818994"
            ]
          },
          "metadata": {},
          "execution_count": 53
        }
      ]
    },
    {
      "cell_type": "markdown",
      "metadata": {
        "id": "a2BrKHq8m8AS"
      },
      "source": [
        "## 🔥 도전 과제\n",
        "\n",
        "아래 세가지를 다하면 됩니다.\n",
        "\n",
        "### 1. Function\n",
        "\n",
        "4번에서 사용한 one sample chisquare test를 함수의 형태로 변경하세요."
      ]
    },
    {
      "cell_type": "code",
      "metadata": {
        "id": "AntnuAkFm-JQ"
      },
      "source": [
        "v1 = [18,22,20,15,23,22]\n",
        "v2 = [5,23,26,19,24,23]\n",
        "\n",
        "def myChisq(value):\n",
        "    return None# 내용을 채우세요.\n",
        "\n",
        "myChisq(v1) \n",
        "\n",
        "# chisquare값과 pvalue를 출력해야합니다.\n",
        "\n",
        "myChisq(v2)"
      ],
      "execution_count": null,
      "outputs": []
    },
    {
      "cell_type": "markdown",
      "metadata": {
        "id": "4ohsJhQUmEuS"
      },
      "source": [
        "### 2. ANOVA\n",
        "\n",
        "아래 링크를 참조하여 ANOVA 에 대한 글을 읽고\n",
        "\n",
        "<https://partrita.github.io/posts/ANOVA-python/>\n",
        "\n",
        "다음 `4개 그룹에 대해서 평균의 차이가 있는지`에 대한 가설 검정을 시행하세요.\n",
        "\n",
        "A : `38 33 35 92 76 97 88 41 11  9`\n",
        "\n",
        "B : `18 52 62 48 30 40 87 12 97 82`\n",
        "\n",
        "C :  `28 90  5 49 66 73 96 80  4 17`\n",
        "\n",
        "D : ` 8 99  4 12  7 64 18 10  9 20`\n",
        "\n"
      ]
    },
    {
      "cell_type": "code",
      "metadata": {
        "id": "DMebi5_4UaSn"
      },
      "source": [
        "# 이 곳에 답안을 작성하시길 바랍니다"
      ],
      "execution_count": null,
      "outputs": []
    }
  ]
}